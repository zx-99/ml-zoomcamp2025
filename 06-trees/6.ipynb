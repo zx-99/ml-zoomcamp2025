{
 "cells": [
  {
   "cell_type": "markdown",
   "id": "28ba3baa",
   "metadata": {},
   "source": [
    "## Goal\n",
    "\n",
    "Predict the peformance of student in test (i.e. JAMB_Score)"
   ]
  },
  {
   "cell_type": "code",
   "execution_count": 1,
   "id": "ba0f1c7f",
   "metadata": {},
   "outputs": [],
   "source": [
    "import pandas as pd\n",
    "import numpy as np"
   ]
  },
  {
   "cell_type": "code",
   "execution_count": 2,
   "id": "26a87393",
   "metadata": {},
   "outputs": [],
   "source": [
    "df = pd.read_csv('jamb_exam_results.csv')"
   ]
  },
  {
   "cell_type": "code",
   "execution_count": 3,
   "id": "0f2267b9",
   "metadata": {},
   "outputs": [
    {
     "name": "stdout",
     "output_type": "stream",
     "text": [
      "missing values count:\n",
      " jamb_score                        0\n",
      "study_hours_per_week              0\n",
      "attendance_rate                   0\n",
      "teacher_quality                   0\n",
      "distance_to_school                0\n",
      "school_type                       0\n",
      "school_location                   0\n",
      "extra_tutorials                   0\n",
      "access_to_learning_materials      0\n",
      "parent_involvement                0\n",
      "it_knowledge                      0\n",
      "age                               0\n",
      "gender                            0\n",
      "socioeconomic_status              0\n",
      "parent_education_level          891\n",
      "assignments_completed             0\n",
      "dtype: int64\n"
     ]
    }
   ],
   "source": [
    "df.columns = df.columns.str.lower().str.replace(' ', '_')\n",
    "\n",
    "# remove certain column\n",
    "if 'student_id' in df.columns:\n",
    "    df = df.drop(columns='student_id')\n",
    "\n",
    "# find columns with missing values\n",
    "print('missing values count:\\n', df.isna().sum())\n",
    "# fill missing values\n",
    "df = df.fillna(0)"
   ]
  },
  {
   "cell_type": "code",
   "execution_count": 4,
   "id": "a3904bc1",
   "metadata": {},
   "outputs": [],
   "source": [
    "from sklearn.model_selection import train_test_split\n",
    "\n",
    "seed = 1\n",
    "\n",
    "df_full_train, df_test = train_test_split(df, test_size=0.2, random_state=seed)\n",
    "df_train, df_val = train_test_split(df_full_train, test_size=0.25, random_state=seed)\n",
    "\n",
    "assert len(df) == len(df_train) + len(df_val) + len(df_test)"
   ]
  },
  {
   "cell_type": "code",
   "execution_count": 5,
   "id": "a42db95b",
   "metadata": {},
   "outputs": [],
   "source": [
    "# reset the index\n",
    "df_full_train = df_full_train.reset_index(drop=True)\n",
    "df_train = df_train.reset_index(drop=True)\n",
    "df_val = df_val.reset_index(drop=True)\n",
    "df_test = df_test.reset_index(drop=True)\n",
    "\n",
    "# save the target value\n",
    "y_full_train = df_full_train.jamb_score.values\n",
    "y_train = df_train.jamb_score.values\n",
    "y_val = df_val.jamb_score.values\n",
    "y_test = df_test.jamb_score.values\n",
    "\n",
    "# delete the target value\n",
    "del df_full_train['jamb_score']\n",
    "del df_train['jamb_score']\n",
    "del df_val['jamb_score']\n",
    "del df_test['jamb_score']"
   ]
  },
  {
   "cell_type": "code",
   "execution_count": 6,
   "id": "3530ff34",
   "metadata": {},
   "outputs": [
    {
     "data": {
      "text/plain": [
       "array(['access_to_learning_materials=No',\n",
       "       'access_to_learning_materials=Yes', 'age', 'assignments_completed',\n",
       "       'attendance_rate', 'distance_to_school', 'extra_tutorials=No',\n",
       "       'extra_tutorials=Yes', 'gender=Female', 'gender=Male',\n",
       "       'it_knowledge=High', 'it_knowledge=Low', 'it_knowledge=Medium',\n",
       "       'parent_education_level', 'parent_education_level=Primary',\n",
       "       'parent_education_level=Secondary',\n",
       "       'parent_education_level=Tertiary', 'parent_involvement=High',\n",
       "       'parent_involvement=Low', 'parent_involvement=Medium',\n",
       "       'school_location=Rural', 'school_location=Urban',\n",
       "       'school_type=Private', 'school_type=Public',\n",
       "       'socioeconomic_status=High', 'socioeconomic_status=Low',\n",
       "       'socioeconomic_status=Medium', 'study_hours_per_week',\n",
       "       'teacher_quality'], dtype=object)"
      ]
     },
     "execution_count": 6,
     "metadata": {},
     "output_type": "execute_result"
    }
   ],
   "source": [
    "from sklearn.feature_extraction import DictVectorizer\n",
    "\n",
    "dv = DictVectorizer(sparse=True)\n",
    "\n",
    "train_dict = df_train.to_dict(orient='records')\n",
    "X_train = dv.fit_transform(train_dict)\n",
    "dv.get_feature_names_out()"
   ]
  },
  {
   "cell_type": "markdown",
   "id": "361b879c",
   "metadata": {},
   "source": [
    "### Q1"
   ]
  },
  {
   "cell_type": "code",
   "execution_count": 7,
   "id": "e8abf35a",
   "metadata": {},
   "outputs": [],
   "source": [
    "from sklearn.tree import DecisionTreeRegressor\n",
    "\n",
    "# create the model \n",
    "model = DecisionTreeRegressor(max_depth = 1, random_state=seed)\n",
    "\n",
    "# train the model\n",
    "model.fit(X_train, y_train)\n",
    "\n",
    "# dict vectorize the validation dataset\n",
    "val_dict = df_val.to_dict(orient='records')\n",
    "X_val = dv.transform(val_dict)\n",
    "\n",
    "# use validation dataset to do the prediction\n",
    "y_pred = model.predict(X_val)"
   ]
  },
  {
   "cell_type": "code",
   "execution_count": 8,
   "id": "40f5d260",
   "metadata": {},
   "outputs": [
    {
     "data": {
      "application/vnd.microsoft.datawrangler.viewer.v0+json": {
       "columns": [
        {
         "name": "index",
         "rawType": "int64",
         "type": "integer"
        },
        {
         "name": "feature",
         "rawType": "object",
         "type": "string"
        },
        {
         "name": "gain",
         "rawType": "float64",
         "type": "float"
        }
       ],
       "ref": "f3e0a414-5611-4746-8c08-41f510125cb0",
       "rows": [
        [
         "27",
         "study_hours_per_week",
         "1.0"
        ],
        [
         "1",
         "access_to_learning_materials=Yes",
         "0.0"
        ],
        [
         "2",
         "age",
         "0.0"
        ],
        [
         "3",
         "assignments_completed",
         "0.0"
        ],
        [
         "0",
         "access_to_learning_materials=No",
         "0.0"
        ],
        [
         "5",
         "distance_to_school",
         "0.0"
        ],
        [
         "6",
         "extra_tutorials=No",
         "0.0"
        ],
        [
         "7",
         "extra_tutorials=Yes",
         "0.0"
        ],
        [
         "8",
         "gender=Female",
         "0.0"
        ],
        [
         "9",
         "gender=Male",
         "0.0"
        ],
        [
         "10",
         "it_knowledge=High",
         "0.0"
        ],
        [
         "11",
         "it_knowledge=Low",
         "0.0"
        ],
        [
         "4",
         "attendance_rate",
         "0.0"
        ],
        [
         "12",
         "it_knowledge=Medium",
         "0.0"
        ],
        [
         "13",
         "parent_education_level",
         "0.0"
        ],
        [
         "15",
         "parent_education_level=Secondary",
         "0.0"
        ],
        [
         "14",
         "parent_education_level=Primary",
         "0.0"
        ],
        [
         "17",
         "parent_involvement=High",
         "0.0"
        ],
        [
         "18",
         "parent_involvement=Low",
         "0.0"
        ],
        [
         "19",
         "parent_involvement=Medium",
         "0.0"
        ],
        [
         "16",
         "parent_education_level=Tertiary",
         "0.0"
        ],
        [
         "20",
         "school_location=Rural",
         "0.0"
        ],
        [
         "21",
         "school_location=Urban",
         "0.0"
        ],
        [
         "23",
         "school_type=Public",
         "0.0"
        ],
        [
         "22",
         "school_type=Private",
         "0.0"
        ],
        [
         "24",
         "socioeconomic_status=High",
         "0.0"
        ],
        [
         "25",
         "socioeconomic_status=Low",
         "0.0"
        ],
        [
         "26",
         "socioeconomic_status=Medium",
         "0.0"
        ],
        [
         "28",
         "teacher_quality",
         "0.0"
        ]
       ],
       "shape": {
        "columns": 2,
        "rows": 29
       }
      },
      "text/html": [
       "<div>\n",
       "<style scoped>\n",
       "    .dataframe tbody tr th:only-of-type {\n",
       "        vertical-align: middle;\n",
       "    }\n",
       "\n",
       "    .dataframe tbody tr th {\n",
       "        vertical-align: top;\n",
       "    }\n",
       "\n",
       "    .dataframe thead th {\n",
       "        text-align: right;\n",
       "    }\n",
       "</style>\n",
       "<table border=\"1\" class=\"dataframe\">\n",
       "  <thead>\n",
       "    <tr style=\"text-align: right;\">\n",
       "      <th></th>\n",
       "      <th>feature</th>\n",
       "      <th>gain</th>\n",
       "    </tr>\n",
       "  </thead>\n",
       "  <tbody>\n",
       "    <tr>\n",
       "      <th>27</th>\n",
       "      <td>study_hours_per_week</td>\n",
       "      <td>1.0</td>\n",
       "    </tr>\n",
       "    <tr>\n",
       "      <th>1</th>\n",
       "      <td>access_to_learning_materials=Yes</td>\n",
       "      <td>0.0</td>\n",
       "    </tr>\n",
       "    <tr>\n",
       "      <th>2</th>\n",
       "      <td>age</td>\n",
       "      <td>0.0</td>\n",
       "    </tr>\n",
       "    <tr>\n",
       "      <th>3</th>\n",
       "      <td>assignments_completed</td>\n",
       "      <td>0.0</td>\n",
       "    </tr>\n",
       "    <tr>\n",
       "      <th>0</th>\n",
       "      <td>access_to_learning_materials=No</td>\n",
       "      <td>0.0</td>\n",
       "    </tr>\n",
       "    <tr>\n",
       "      <th>5</th>\n",
       "      <td>distance_to_school</td>\n",
       "      <td>0.0</td>\n",
       "    </tr>\n",
       "    <tr>\n",
       "      <th>6</th>\n",
       "      <td>extra_tutorials=No</td>\n",
       "      <td>0.0</td>\n",
       "    </tr>\n",
       "    <tr>\n",
       "      <th>7</th>\n",
       "      <td>extra_tutorials=Yes</td>\n",
       "      <td>0.0</td>\n",
       "    </tr>\n",
       "    <tr>\n",
       "      <th>8</th>\n",
       "      <td>gender=Female</td>\n",
       "      <td>0.0</td>\n",
       "    </tr>\n",
       "    <tr>\n",
       "      <th>9</th>\n",
       "      <td>gender=Male</td>\n",
       "      <td>0.0</td>\n",
       "    </tr>\n",
       "    <tr>\n",
       "      <th>10</th>\n",
       "      <td>it_knowledge=High</td>\n",
       "      <td>0.0</td>\n",
       "    </tr>\n",
       "    <tr>\n",
       "      <th>11</th>\n",
       "      <td>it_knowledge=Low</td>\n",
       "      <td>0.0</td>\n",
       "    </tr>\n",
       "    <tr>\n",
       "      <th>4</th>\n",
       "      <td>attendance_rate</td>\n",
       "      <td>0.0</td>\n",
       "    </tr>\n",
       "    <tr>\n",
       "      <th>12</th>\n",
       "      <td>it_knowledge=Medium</td>\n",
       "      <td>0.0</td>\n",
       "    </tr>\n",
       "    <tr>\n",
       "      <th>13</th>\n",
       "      <td>parent_education_level</td>\n",
       "      <td>0.0</td>\n",
       "    </tr>\n",
       "    <tr>\n",
       "      <th>15</th>\n",
       "      <td>parent_education_level=Secondary</td>\n",
       "      <td>0.0</td>\n",
       "    </tr>\n",
       "    <tr>\n",
       "      <th>14</th>\n",
       "      <td>parent_education_level=Primary</td>\n",
       "      <td>0.0</td>\n",
       "    </tr>\n",
       "    <tr>\n",
       "      <th>17</th>\n",
       "      <td>parent_involvement=High</td>\n",
       "      <td>0.0</td>\n",
       "    </tr>\n",
       "    <tr>\n",
       "      <th>18</th>\n",
       "      <td>parent_involvement=Low</td>\n",
       "      <td>0.0</td>\n",
       "    </tr>\n",
       "    <tr>\n",
       "      <th>19</th>\n",
       "      <td>parent_involvement=Medium</td>\n",
       "      <td>0.0</td>\n",
       "    </tr>\n",
       "    <tr>\n",
       "      <th>16</th>\n",
       "      <td>parent_education_level=Tertiary</td>\n",
       "      <td>0.0</td>\n",
       "    </tr>\n",
       "    <tr>\n",
       "      <th>20</th>\n",
       "      <td>school_location=Rural</td>\n",
       "      <td>0.0</td>\n",
       "    </tr>\n",
       "    <tr>\n",
       "      <th>21</th>\n",
       "      <td>school_location=Urban</td>\n",
       "      <td>0.0</td>\n",
       "    </tr>\n",
       "    <tr>\n",
       "      <th>23</th>\n",
       "      <td>school_type=Public</td>\n",
       "      <td>0.0</td>\n",
       "    </tr>\n",
       "    <tr>\n",
       "      <th>22</th>\n",
       "      <td>school_type=Private</td>\n",
       "      <td>0.0</td>\n",
       "    </tr>\n",
       "    <tr>\n",
       "      <th>24</th>\n",
       "      <td>socioeconomic_status=High</td>\n",
       "      <td>0.0</td>\n",
       "    </tr>\n",
       "    <tr>\n",
       "      <th>25</th>\n",
       "      <td>socioeconomic_status=Low</td>\n",
       "      <td>0.0</td>\n",
       "    </tr>\n",
       "    <tr>\n",
       "      <th>26</th>\n",
       "      <td>socioeconomic_status=Medium</td>\n",
       "      <td>0.0</td>\n",
       "    </tr>\n",
       "    <tr>\n",
       "      <th>28</th>\n",
       "      <td>teacher_quality</td>\n",
       "      <td>0.0</td>\n",
       "    </tr>\n",
       "  </tbody>\n",
       "</table>\n",
       "</div>"
      ],
      "text/plain": [
       "                             feature  gain\n",
       "27              study_hours_per_week   1.0\n",
       "1   access_to_learning_materials=Yes   0.0\n",
       "2                                age   0.0\n",
       "3              assignments_completed   0.0\n",
       "0    access_to_learning_materials=No   0.0\n",
       "5                 distance_to_school   0.0\n",
       "6                 extra_tutorials=No   0.0\n",
       "7                extra_tutorials=Yes   0.0\n",
       "8                      gender=Female   0.0\n",
       "9                        gender=Male   0.0\n",
       "10                 it_knowledge=High   0.0\n",
       "11                  it_knowledge=Low   0.0\n",
       "4                    attendance_rate   0.0\n",
       "12               it_knowledge=Medium   0.0\n",
       "13            parent_education_level   0.0\n",
       "15  parent_education_level=Secondary   0.0\n",
       "14    parent_education_level=Primary   0.0\n",
       "17           parent_involvement=High   0.0\n",
       "18            parent_involvement=Low   0.0\n",
       "19         parent_involvement=Medium   0.0\n",
       "16   parent_education_level=Tertiary   0.0\n",
       "20             school_location=Rural   0.0\n",
       "21             school_location=Urban   0.0\n",
       "23                school_type=Public   0.0\n",
       "22               school_type=Private   0.0\n",
       "24         socioeconomic_status=High   0.0\n",
       "25          socioeconomic_status=Low   0.0\n",
       "26       socioeconomic_status=Medium   0.0\n",
       "28                   teacher_quality   0.0"
      ]
     },
     "execution_count": 8,
     "metadata": {},
     "output_type": "execute_result"
    }
   ],
   "source": [
    "importance = list(zip(dv.feature_names_, model.feature_importances_))\n",
    "\n",
    "df_importance = pd.DataFrame(importance, columns=['feature', 'gain'])\n",
    "df_importance = df_importance.sort_values(by='gain', ascending=False)\n",
    "df_importance"
   ]
  },
  {
   "cell_type": "markdown",
   "id": "bf7e8c36",
   "metadata": {},
   "source": [
    "### Q2"
   ]
  },
  {
   "cell_type": "code",
   "execution_count": 9,
   "id": "3c61b09e",
   "metadata": {},
   "outputs": [
    {
     "data": {
      "text/plain": [
       "42.13724207871227"
      ]
     },
     "execution_count": 9,
     "metadata": {},
     "output_type": "execute_result"
    }
   ],
   "source": [
    "from sklearn.ensemble import RandomForestRegressor\n",
    "\n",
    "rf = RandomForestRegressor(n_estimators=10, random_state=1, n_jobs=-1)\n",
    "\n",
    "rf.fit(X_train, y_train)\n",
    "\n",
    "y_pred = rf.predict(X_val)\n",
    "\n",
    "from sklearn.metrics import root_mean_squared_error\n",
    "\n",
    "root_mean_squared_error(y_val, y_pred)"
   ]
  },
  {
   "cell_type": "markdown",
   "id": "923dc15a",
   "metadata": {},
   "source": [
    "### Q3"
   ]
  },
  {
   "cell_type": "code",
   "execution_count": 20,
   "id": "aa2ebf49",
   "metadata": {},
   "outputs": [
    {
     "name": "stderr",
     "output_type": "stream",
     "text": [
      "  0%|          | 0/20 [00:00<?, ?it/s]"
     ]
    },
    {
     "name": "stderr",
     "output_type": "stream",
     "text": [
      "100%|██████████| 20/20 [01:54<00:00,  5.73s/it]\n"
     ]
    }
   ],
   "source": [
    "from tqdm import tqdm\n",
    "\n",
    "scores = []\n",
    "\n",
    "for i in tqdm(np.arange(10, 201, 10)):\n",
    "    rf = RandomForestRegressor(n_estimators=i, random_state=1, n_jobs=-1)\n",
    "    rf.fit(X_train, y_train)\n",
    "    y_pred = rf.predict(X_val)\n",
    "    scores.append(round(root_mean_squared_error(y_val, y_pred),2))"
   ]
  },
  {
   "cell_type": "code",
   "execution_count": 22,
   "id": "fbb5d703",
   "metadata": {},
   "outputs": [
    {
     "data": {
      "image/png": "[encoded data removed]",
      "text/plain": [
       "<Figure size 1200x800 with 1 Axes>"
      ]
     },
     "metadata": {},
     "output_type": "display_data"
    }
   ],
   "source": [
    "import matplotlib.pyplot as plt\n",
    "\n",
    "plt.figure(figsize=(12,8))\n",
    "\n",
    "plt.plot(np.arange(10, 201, 10), scores, color='black')\n",
    "plt.xticks(np.arange(10, 201, 10))\n",
    "\n",
    "plt.title('Number of estimators vs RMSE')\n",
    "plt.xlabel('Number of estimators')\n",
    "plt.ylabel('RMSE')\n",
    "\n",
    "plt.show()"
   ]
  },
  {
   "cell_type": "markdown",
   "id": "11bf1355",
   "metadata": {},
   "source": [
    "### Q4"
   ]
  },
  {
   "cell_type": "code",
   "execution_count": 28,
   "id": "a5a68138",
   "metadata": {},
   "outputs": [
    {
     "name": "stderr",
     "output_type": "stream",
     "text": [
      "  0%|          | 0/4 [00:00<?, ?it/s]"
     ]
    },
    {
     "name": "stdout",
     "output_type": "stream",
     "text": [
      "depth: 10\n"
     ]
    },
    {
     "name": "stderr",
     "output_type": "stream",
     "text": [
      " 25%|██▌       | 1/4 [00:57<02:51, 57.24s/it]"
     ]
    },
    {
     "name": "stdout",
     "output_type": "stream",
     "text": [
      "10 -> 40.39\n",
      "\n",
      "depth: 15\n"
     ]
    },
    {
     "name": "stderr",
     "output_type": "stream",
     "text": [
      " 50%|█████     | 2/4 [02:40<02:48, 84.10s/it]"
     ]
    },
    {
     "name": "stdout",
     "output_type": "stream",
     "text": [
      "15 -> 40.74\n",
      "\n",
      "depth: 20\n"
     ]
    },
    {
     "name": "stderr",
     "output_type": "stream",
     "text": [
      " 75%|███████▌  | 3/4 [04:32<01:37, 97.15s/it]"
     ]
    },
    {
     "name": "stdout",
     "output_type": "stream",
     "text": [
      "20 -> 40.74\n",
      "\n",
      "depth: 25\n"
     ]
    },
    {
     "name": "stderr",
     "output_type": "stream",
     "text": [
      "100%|██████████| 4/4 [06:23<00:00, 95.97s/it] "
     ]
    },
    {
     "name": "stdout",
     "output_type": "stream",
     "text": [
      "25 -> 40.79\n",
      "\n"
     ]
    },
    {
     "name": "stderr",
     "output_type": "stream",
     "text": [
      "\n"
     ]
    }
   ],
   "source": [
    "max_depth = [10, 15, 20, 25]\n",
    "all_scores = {}\n",
    "for i in tqdm(max_depth):\n",
    "    print('depth: %s' % i)\n",
    "    scores = []\n",
    "    for j in np.arange(10, 201, 10):\n",
    "        rf = RandomForestRegressor(n_estimators=j, max_depth=i, random_state=1, n_jobs=-1)\n",
    "        rf.fit(X_train, y_train)\n",
    "        y_pred = rf.predict(X_val)\n",
    "        scores.append(root_mean_squared_error(y_val, y_pred))\n",
    "    all_scores[i] = np.mean(scores)\n",
    "    print('%s -> %.2f'%(i, np.mean(scores)) )\n",
    "    print()"
   ]
  },
  {
   "cell_type": "markdown",
   "id": "9974d25a",
   "metadata": {},
   "source": [
    "### Q5"
   ]
  },
  {
   "cell_type": "code",
   "execution_count": 29,
   "id": "5b5e94e4",
   "metadata": {},
   "outputs": [
    {
     "data": {
      "application/vnd.microsoft.datawrangler.viewer.v0+json": {
       "columns": [
        {
         "name": "index",
         "rawType": "int64",
         "type": "integer"
        },
        {
         "name": "feature",
         "rawType": "object",
         "type": "string"
        },
        {
         "name": "gain",
         "rawType": "float64",
         "type": "float"
        }
       ],
       "ref": "c582a8a2-9c81-47b1-a53d-bab9501849ee",
       "rows": [
        [
         "27",
         "study_hours_per_week",
         "0.24835361199396536"
        ],
        [
         "4",
         "attendance_rate",
         "0.1497290297846747"
        ],
        [
         "5",
         "distance_to_school",
         "0.1364858048632369"
        ],
        [
         "28",
         "teacher_quality",
         "0.0826822226388016"
        ],
        [
         "2",
         "age",
         "0.06931145469695398"
        ],
        [
         "3",
         "assignments_completed",
         "0.03151678945460071"
        ],
        [
         "24",
         "socioeconomic_status=High",
         "0.025714264343587142"
        ],
        [
         "17",
         "parent_involvement=High",
         "0.022918852929064194"
        ],
        [
         "10",
         "it_knowledge=High",
         "0.0177193420394119"
        ],
        [
         "15",
         "parent_education_level=Secondary",
         "0.016956919815100068"
        ],
        [
         "14",
         "parent_education_level=Primary",
         "0.01545036018792814"
        ],
        [
         "16",
         "parent_education_level=Tertiary",
         "0.014488617277194148"
        ],
        [
         "6",
         "extra_tutorials=No",
         "0.013459336291731934"
        ],
        [
         "18",
         "parent_involvement=Low",
         "0.013357613537934167"
        ],
        [
         "11",
         "it_knowledge=Low",
         "0.012404050525957137"
        ],
        [
         "0",
         "access_to_learning_materials=No",
         "0.012325395818561702"
        ],
        [
         "19",
         "parent_involvement=Medium",
         "0.011492011642547156"
        ],
        [
         "25",
         "socioeconomic_status=Low",
         "0.010707977461688629"
        ],
        [
         "26",
         "socioeconomic_status=Medium",
         "0.010562682989822823"
        ],
        [
         "9",
         "gender=Male",
         "0.010382634572648446"
        ],
        [
         "1",
         "access_to_learning_materials=Yes",
         "0.010261891957053597"
        ],
        [
         "20",
         "school_location=Rural",
         "0.009559093298481168"
        ],
        [
         "8",
         "gender=Female",
         "0.009288710588929935"
        ],
        [
         "21",
         "school_location=Urban",
         "0.009239319693743833"
        ],
        [
         "12",
         "it_knowledge=Medium",
         "0.009141479881545294"
        ],
        [
         "7",
         "extra_tutorials=Yes",
         "0.009131355726749437"
        ],
        [
         "22",
         "school_type=Private",
         "0.008953196653808903"
        ],
        [
         "23",
         "school_type=Public",
         "0.008405979334277155"
        ],
        [
         "13",
         "parent_education_level",
         "0.0"
        ]
       ],
       "shape": {
        "columns": 2,
        "rows": 29
       }
      },
      "text/html": [
       "<div>\n",
       "<style scoped>\n",
       "    .dataframe tbody tr th:only-of-type {\n",
       "        vertical-align: middle;\n",
       "    }\n",
       "\n",
       "    .dataframe tbody tr th {\n",
       "        vertical-align: top;\n",
       "    }\n",
       "\n",
       "    .dataframe thead th {\n",
       "        text-align: right;\n",
       "    }\n",
       "</style>\n",
       "<table border=\"1\" class=\"dataframe\">\n",
       "  <thead>\n",
       "    <tr style=\"text-align: right;\">\n",
       "      <th></th>\n",
       "      <th>feature</th>\n",
       "      <th>gain</th>\n",
       "    </tr>\n",
       "  </thead>\n",
       "  <tbody>\n",
       "    <tr>\n",
       "      <th>27</th>\n",
       "      <td>study_hours_per_week</td>\n",
       "      <td>0.248354</td>\n",
       "    </tr>\n",
       "    <tr>\n",
       "      <th>4</th>\n",
       "      <td>attendance_rate</td>\n",
       "      <td>0.149729</td>\n",
       "    </tr>\n",
       "    <tr>\n",
       "      <th>5</th>\n",
       "      <td>distance_to_school</td>\n",
       "      <td>0.136486</td>\n",
       "    </tr>\n",
       "    <tr>\n",
       "      <th>28</th>\n",
       "      <td>teacher_quality</td>\n",
       "      <td>0.082682</td>\n",
       "    </tr>\n",
       "    <tr>\n",
       "      <th>2</th>\n",
       "      <td>age</td>\n",
       "      <td>0.069311</td>\n",
       "    </tr>\n",
       "    <tr>\n",
       "      <th>3</th>\n",
       "      <td>assignments_completed</td>\n",
       "      <td>0.031517</td>\n",
       "    </tr>\n",
       "    <tr>\n",
       "      <th>24</th>\n",
       "      <td>socioeconomic_status=High</td>\n",
       "      <td>0.025714</td>\n",
       "    </tr>\n",
       "    <tr>\n",
       "      <th>17</th>\n",
       "      <td>parent_involvement=High</td>\n",
       "      <td>0.022919</td>\n",
       "    </tr>\n",
       "    <tr>\n",
       "      <th>10</th>\n",
       "      <td>it_knowledge=High</td>\n",
       "      <td>0.017719</td>\n",
       "    </tr>\n",
       "    <tr>\n",
       "      <th>15</th>\n",
       "      <td>parent_education_level=Secondary</td>\n",
       "      <td>0.016957</td>\n",
       "    </tr>\n",
       "    <tr>\n",
       "      <th>14</th>\n",
       "      <td>parent_education_level=Primary</td>\n",
       "      <td>0.015450</td>\n",
       "    </tr>\n",
       "    <tr>\n",
       "      <th>16</th>\n",
       "      <td>parent_education_level=Tertiary</td>\n",
       "      <td>0.014489</td>\n",
       "    </tr>\n",
       "    <tr>\n",
       "      <th>6</th>\n",
       "      <td>extra_tutorials=No</td>\n",
       "      <td>0.013459</td>\n",
       "    </tr>\n",
       "    <tr>\n",
       "      <th>18</th>\n",
       "      <td>parent_involvement=Low</td>\n",
       "      <td>0.013358</td>\n",
       "    </tr>\n",
       "    <tr>\n",
       "      <th>11</th>\n",
       "      <td>it_knowledge=Low</td>\n",
       "      <td>0.012404</td>\n",
       "    </tr>\n",
       "    <tr>\n",
       "      <th>0</th>\n",
       "      <td>access_to_learning_materials=No</td>\n",
       "      <td>0.012325</td>\n",
       "    </tr>\n",
       "    <tr>\n",
       "      <th>19</th>\n",
       "      <td>parent_involvement=Medium</td>\n",
       "      <td>0.011492</td>\n",
       "    </tr>\n",
       "    <tr>\n",
       "      <th>25</th>\n",
       "      <td>socioeconomic_status=Low</td>\n",
       "      <td>0.010708</td>\n",
       "    </tr>\n",
       "    <tr>\n",
       "      <th>26</th>\n",
       "      <td>socioeconomic_status=Medium</td>\n",
       "      <td>0.010563</td>\n",
       "    </tr>\n",
       "    <tr>\n",
       "      <th>9</th>\n",
       "      <td>gender=Male</td>\n",
       "      <td>0.010383</td>\n",
       "    </tr>\n",
       "    <tr>\n",
       "      <th>1</th>\n",
       "      <td>access_to_learning_materials=Yes</td>\n",
       "      <td>0.010262</td>\n",
       "    </tr>\n",
       "    <tr>\n",
       "      <th>20</th>\n",
       "      <td>school_location=Rural</td>\n",
       "      <td>0.009559</td>\n",
       "    </tr>\n",
       "    <tr>\n",
       "      <th>8</th>\n",
       "      <td>gender=Female</td>\n",
       "      <td>0.009289</td>\n",
       "    </tr>\n",
       "    <tr>\n",
       "      <th>21</th>\n",
       "      <td>school_location=Urban</td>\n",
       "      <td>0.009239</td>\n",
       "    </tr>\n",
       "    <tr>\n",
       "      <th>12</th>\n",
       "      <td>it_knowledge=Medium</td>\n",
       "      <td>0.009141</td>\n",
       "    </tr>\n",
       "    <tr>\n",
       "      <th>7</th>\n",
       "      <td>extra_tutorials=Yes</td>\n",
       "      <td>0.009131</td>\n",
       "    </tr>\n",
       "    <tr>\n",
       "      <th>22</th>\n",
       "      <td>school_type=Private</td>\n",
       "      <td>0.008953</td>\n",
       "    </tr>\n",
       "    <tr>\n",
       "      <th>23</th>\n",
       "      <td>school_type=Public</td>\n",
       "      <td>0.008406</td>\n",
       "    </tr>\n",
       "    <tr>\n",
       "      <th>13</th>\n",
       "      <td>parent_education_level</td>\n",
       "      <td>0.000000</td>\n",
       "    </tr>\n",
       "  </tbody>\n",
       "</table>\n",
       "</div>"
      ],
      "text/plain": [
       "                             feature      gain\n",
       "27              study_hours_per_week  0.248354\n",
       "4                    attendance_rate  0.149729\n",
       "5                 distance_to_school  0.136486\n",
       "28                   teacher_quality  0.082682\n",
       "2                                age  0.069311\n",
       "3              assignments_completed  0.031517\n",
       "24         socioeconomic_status=High  0.025714\n",
       "17           parent_involvement=High  0.022919\n",
       "10                 it_knowledge=High  0.017719\n",
       "15  parent_education_level=Secondary  0.016957\n",
       "14    parent_education_level=Primary  0.015450\n",
       "16   parent_education_level=Tertiary  0.014489\n",
       "6                 extra_tutorials=No  0.013459\n",
       "18            parent_involvement=Low  0.013358\n",
       "11                  it_knowledge=Low  0.012404\n",
       "0    access_to_learning_materials=No  0.012325\n",
       "19         parent_involvement=Medium  0.011492\n",
       "25          socioeconomic_status=Low  0.010708\n",
       "26       socioeconomic_status=Medium  0.010563\n",
       "9                        gender=Male  0.010383\n",
       "1   access_to_learning_materials=Yes  0.010262\n",
       "20             school_location=Rural  0.009559\n",
       "8                      gender=Female  0.009289\n",
       "21             school_location=Urban  0.009239\n",
       "12               it_knowledge=Medium  0.009141\n",
       "7                extra_tutorials=Yes  0.009131\n",
       "22               school_type=Private  0.008953\n",
       "23                school_type=Public  0.008406\n",
       "13            parent_education_level  0.000000"
      ]
     },
     "execution_count": 29,
     "metadata": {},
     "output_type": "execute_result"
    }
   ],
   "source": [
    "rf = RandomForestRegressor(n_estimators=10, max_depth=20, random_state=1, n_jobs=-1)\n",
    "rf.fit(X_train, y_train)\n",
    "\n",
    "importance = list(zip(dv.feature_names_, rf.feature_importances_))\n",
    "\n",
    "df_importance = pd.DataFrame(importance, columns=['feature', 'gain'])\n",
    "df_importance = df_importance.sort_values(by='gain', ascending=False)\n",
    "df_importance"
   ]
  },
  {
   "cell_type": "markdown",
   "id": "4aa85175",
   "metadata": {},
   "source": [
    "### Q6"
   ]
  },
  {
   "cell_type": "code",
   "execution_count": null,
   "id": "fec306ac",
   "metadata": {},
   "outputs": [],
   "source": [
    "def parse_xgb_output(output):\n",
    "    tree = []\n",
    "    rmse_train = []\n",
    "    rmse_val = []\n",
    "\n",
    "    for line in output.stdout.strip().split('\\n'):\n",
    "        it_line, train_line, val_line = line.split('\\t')\n",
    "\n",
    "        it = int(it_line.strip('[]'))\n",
    "        train = float(train_line.split(':')[1])\n",
    "        val = float(val_line.split(':')[1])\n",
    "\n",
    "        tree.append(it)\n",
    "        rmse_train.append(train)\n",
    "        rmse_val.append(val)\n",
    "\n",
    "    return tree, rmse_train, rmse_val"
   ]
  },
  {
   "cell_type": "code",
   "execution_count": 34,
   "id": "a16295bc",
   "metadata": {},
   "outputs": [],
   "source": [
    "# !pip install xgboost\n",
    "import xgboost as xgb"
   ]
  },
  {
   "cell_type": "code",
   "execution_count": null,
   "id": "a80e4a5f",
   "metadata": {},
   "outputs": [],
   "source": [
    "# create dmatrix for train & val\n",
    "dtrain_reg = xgb.DMatrix(X_train, y_train, feature_names=dv.feature_names_)\n",
    "dval_reg = xgb.DMatrix(X_val, y_val, feature_names=dv.feature_names_)"
   ]
  },
  {
   "cell_type": "code",
   "execution_count": 52,
   "id": "429150f8",
   "metadata": {},
   "outputs": [],
   "source": [
    "# set parms (eta=0.3)\n",
    "xgb_params = {\n",
    "    'eta': 0.3, \n",
    "    'max_depth': 6,\n",
    "    'min_child_weight': 1,\n",
    "    \n",
    "    'objective': 'reg:squarederror',\n",
    "    'nthread': 8,\n",
    "    \n",
    "    'seed': 1,\n",
    "    'verbosity': 1,\n",
    "}\n",
    "\n",
    "# create watchlist\n",
    "evallist = [(dtrain_reg, 'train'), (dval_reg, 'val')]\n"
   ]
  },
  {
   "cell_type": "code",
   "execution_count": 53,
   "id": "67706943",
   "metadata": {},
   "outputs": [],
   "source": [
    "%%capture output\n",
    "\n",
    "# train the model\n",
    "model = xgb.train(xgb_params, dtrain_reg, num_boost_round=100, evals=evallist, verbose_eval=10)\n",
    "\n",
    "tree, rmse_train_03, rmse_val_03 = parse_xgb_output(output)"
   ]
  },
  {
   "cell_type": "code",
   "execution_count": 54,
   "id": "68af2702",
   "metadata": {},
   "outputs": [],
   "source": [
    "# set parms (eta=0.1)\n",
    "xgb_params = {\n",
    "    'eta': 0.1, \n",
    "    'max_depth': 6,\n",
    "    'min_child_weight': 1,\n",
    "    \n",
    "    'objective': 'reg:squarederror',\n",
    "    'nthread': 8,\n",
    "    \n",
    "    'seed': 1,\n",
    "    'verbosity': 1,\n",
    "}\n",
    "\n",
    "# create watchlist\n",
    "evallist = [(dtrain_reg, 'train'), (dval_reg, 'val')]"
   ]
  },
  {
   "cell_type": "code",
   "execution_count": 55,
   "id": "29966055",
   "metadata": {},
   "outputs": [],
   "source": [
    "%%capture output\n",
    "\n",
    "# train the model\n",
    "model = xgb.train(xgb_params, dtrain_reg, num_boost_round=100, evals=evallist, verbose_eval=10)\n",
    "\n",
    "tree, rmse_train_01, rmse_val_01 = parse_xgb_output(output)"
   ]
  },
  {
   "cell_type": "code",
   "execution_count": 57,
   "id": "91ea5d8b",
   "metadata": {},
   "outputs": [
    {
     "data": {
      "image/png": "[encoded data removed]",
      "text/plain": [
       "<Figure size 1000x800 with 1 Axes>"
      ]
     },
     "metadata": {},
     "output_type": "display_data"
    }
   ],
   "source": [
    "plt.figure(figsize=(10, 8))\n",
    "\n",
    "plt.plot(tree, rmse_val_01, color='red', linestyle='solid', label='eta=0.1')\n",
    "plt.plot(tree, rmse_val_03, color='blue', linestyle='solid', label='eta=0.3')\n",
    "plt.xticks(range(0, 101, 25))\n",
    "\n",
    "plt.legend()\n",
    "\n",
    "plt.title('XGBoost: number of round vs RMSE')\n",
    "plt.xlabel('Number of round')\n",
    "plt.ylabel('RMSE')\n",
    "\n",
    "plt.show()"
   ]
  }
 ],
 "metadata": {
  "kernelspec": {
   "display_name": "Python 3",
   "language": "python",
   "name": "python3"
  },
  "language_info": {
   "codemirror_mode": {
    "name": "ipython",
    "version": 3
   },
   "file_extension": ".py",
   "mimetype": "text/x-python",
   "name": "python",
   "nbconvert_exporter": "python",
   "pygments_lexer": "ipython3",
   "version": "3.12.1"
  }
 },
 "nbformat": 4,
 "nbformat_minor": 5
}
