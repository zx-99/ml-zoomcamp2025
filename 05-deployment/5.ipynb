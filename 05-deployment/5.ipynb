{
 "cells": [
  {
   "cell_type": "markdown",
   "id": "bad0b50e",
   "metadata": {},
   "source": [
    "### Q1 & Q2"
   ]
  },
  {
   "cell_type": "code",
   "execution_count": 11,
   "id": "8097c016",
   "metadata": {},
   "outputs": [
    {
     "name": "stdout",
     "output_type": "stream",
     "text": [
      "To activate this project's virtualenv, run \u001b[33mpipenv shell\u001b[0m.\n",
      "Alternatively, run a command inside the virtualenv with \u001b[33mpipenv run\u001b[0m.\n",
      "\u001b[1;32mInstalling numpy...\u001b[0m\n",
      "✔ Installation Succeeded\n",
      "\u001b[1;32mInstalling scikit-learn==1.5.2...\u001b[0m\n",
      "✔ Installation Succeeded\n",
      "\u001b[1;32mInstalling flask...\u001b[0m\n",
      "✔ Installation Succeeded\n",
      "\u001b[1;32mInstalling gunicorn...\u001b[0m\n",
      "✔ Installation Succeeded\n",
      "To activate this project's virtualenv, run \u001b[33mpipenv shell\u001b[0m.\n",
      "Alternatively, run a command inside the virtualenv with \u001b[33mpipenv run\u001b[0m.\n",
      "\u001b[1mInstalling dependencies from Pipfile.lock \u001b[0m\u001b[1;39m(6757b9)...\u001b[0m\n",
      "\u001b[32mAll dependencies are now up-to-date!\u001b[0m\n",
      "\u001b[1;32mUpgrading\u001b[0m numpy, scikit-\u001b[33mlearn\u001b[0m==\u001b[1;36m1.5\u001b[0m.\u001b[1;36m2\u001b[0m, flask, gunicorn in \u001b[39m dependencies.\u001b[0m\n",
      "\u001b[?25lBuilding requirements...\n",
      "\u001b[2KResolving dependencies....\n",
      "\u001b[2K✔ Success! Locking packages...\n",
      "\u001b[2K\u001b[32m⠴\u001b[0m Locking packages...\n",
      "\u001b[1A\u001b[2K\u001b[?25lBuilding requirements...\n",
      "\u001b[2KResolving dependencies....\n",
      "\u001b[2K✔ Success! Locking packages...\n",
      "\u001b[2K\u001b[32m⠦\u001b[0m Locking packages...\n",
      "\u001b[1A\u001b[2KTo activate this project's virtualenv, run \u001b[33mpipenv shell\u001b[0m.\n",
      "Alternatively, run a command inside the virtualenv with \u001b[33mpipenv run\u001b[0m.\n",
      "\u001b[1mInstalling dependencies from Pipfile.lock \u001b[0m\u001b[1;39m(7dedf4)...\u001b[0m\n",
      "\u001b[32mAll dependencies are now up-to-date!\u001b[0m\n",
      "\u001b[1mInstalling dependencies from Pipfile.lock \u001b[0m\u001b[1;39m(7dedf4)...\u001b[0m\n"
     ]
    }
   ],
   "source": [
    "# ! pip install pipenv\n",
    "# ! pipenv --version\n",
    "# ! pipenv install numpy scikit-learn==1.5.2 flask gunicorn\n",
    "# active virtual environment\n",
    "# ! pipenv shell"
   ]
  },
  {
   "cell_type": "markdown",
   "id": "8e05993b",
   "metadata": {},
   "source": [
    "### Q3"
   ]
  },
  {
   "cell_type": "code",
   "execution_count": null,
   "id": "4f4efd81",
   "metadata": {},
   "outputs": [],
   "source": [
    "# !pip install pickle-mixin\n",
    "import pickle"
   ]
  },
  {
   "cell_type": "code",
   "execution_count": null,
   "id": "77da4f35",
   "metadata": {},
   "outputs": [],
   "source": [
    "# load the model\n",
    "with open('model1.bin', 'rb') as f_in: \n",
    "    model = pickle.load(f_in)\n",
    "\n",
    "with open('dv.bin', 'rb') as f_in2:\n",
    "    dict_vectorizer = pickle.load(f_in2)    "
   ]
  },
  {
   "cell_type": "code",
   "execution_count": null,
   "id": "2458f689",
   "metadata": {},
   "outputs": [],
   "source": [
    "client = {\"job\": \"management\", \"duration\": 400, \"poutcome\": \"success\"}"
   ]
  },
  {
   "cell_type": "code",
   "execution_count": null,
   "id": "467898f6",
   "metadata": {},
   "outputs": [],
   "source": [
    "X = dict_vectorizer.transform([client])"
   ]
  },
  {
   "cell_type": "code",
   "execution_count": null,
   "id": "0ef9f8fb",
   "metadata": {},
   "outputs": [],
   "source": [
    "print(\"%.3f\" % model.predict_proba(X)[0,1])"
   ]
  },
  {
   "cell_type": "markdown",
   "id": "a6f09f24",
   "metadata": {},
   "source": [
    "### Q4 flask"
   ]
  },
  {
   "cell_type": "code",
   "execution_count": null,
   "id": "63c3e97d",
   "metadata": {},
   "outputs": [],
   "source": [
    "# see 5-flash.py script"
   ]
  },
  {
   "cell_type": "code",
   "execution_count": 6,
   "id": "9e77a6ae",
   "metadata": {},
   "outputs": [
    {
     "name": "stdout",
     "output_type": "stream",
     "text": [
      "[2025-08-21 06:28:21 +0000] [20056] [INFO] Starting gunicorn 23.0.0\n",
      "[2025-08-21 06:28:21 +0000] [20056] [INFO] Listening at: http://0.0.0.0:9696 (20056)\n",
      "[2025-08-21 06:28:21 +0000] [20056] [INFO] Using worker: sync\n",
      "[2025-08-21 06:28:21 +0000] [20058] [INFO] Booting worker with pid: 20058\n",
      "[2025-08-21 06:28:29 +0000] [20056] [INFO] Handling signal: int\n",
      "^C\n"
     ]
    }
   ],
   "source": [
    "# Dev using flask\n",
    "# ! python 5-flask.py\n",
    "\n",
    "# Prod using gunicorn\n",
    "# ! gunicorn -b 0.0.0.0:9696 5-flask:app"
   ]
  },
  {
   "cell_type": "code",
   "execution_count": null,
   "id": "adc12167",
   "metadata": {},
   "outputs": [
    {
     "name": "stdout",
     "output_type": "stream",
     "text": [
      "{'probability': 0.335}\n"
     ]
    }
   ],
   "source": [
    "import requests\n",
    "\n",
    "url = \"http://localhost:9696/predict\"\n",
    "client = {\"job\": \"student\", \"duration\": 280, \"poutcome\": \"failure\"}\n",
    "response = requests.post(url, json=client) ## post the customer information in json format\n",
    "score = response.json() ## get the server response\n",
    "print(score)"
   ]
  },
  {
   "cell_type": "markdown",
   "id": "17a50118",
   "metadata": {},
   "source": [
    "### Q5 Docker"
   ]
  },
  {
   "cell_type": "code",
   "execution_count": 20,
   "id": "178f3fbf",
   "metadata": {},
   "outputs": [
    {
     "name": "stdout",
     "output_type": "stream",
     "text": [
      "\u001b[1A\u001b[1B\u001b[0G\u001b[?25l[+] Building 0.0s (0/1)                                          docker:default\n",
      "\u001b[?25h\u001b[1A\u001b[0G\u001b[?25l[+] Building 0.2s (2/3)                                          docker:default\n",
      "\u001b[34m => [internal] load build definition from Dockerfile                       0.0s\n",
      "\u001b[0m\u001b[34m => => transferring dockerfile: 424B                                       0.0s\n",
      "\u001b[0m => [internal] load metadata for docker.io/svizor/zoomcamp-model:3.11.5-s  0.2s\n",
      "\u001b[34m => [auth] svizor/zoomcamp-model:pull token for registry-1.docker.io       0.0s\n",
      "\u001b[0m\u001b[?25h"
     ]
    },
    {
     "name": "stdout",
     "output_type": "stream",
     "text": [
      "\u001b[1A\u001b[1A\u001b[1A\u001b[1A\u001b[1A\u001b[0G\u001b[?25l[+] Building 0.3s (2/3)                                          docker:default\n",
      "\u001b[34m => [internal] load build definition from Dockerfile                       0.0s\n",
      "\u001b[0m\u001b[34m => => transferring dockerfile: 424B                                       0.0s\n",
      "\u001b[0m => [internal] load metadata for docker.io/svizor/zoomcamp-model:3.11.5-s  0.3s\n",
      "\u001b[34m => [auth] svizor/zoomcamp-model:pull token for registry-1.docker.io       0.0s\n",
      "\u001b[0m\u001b[?25h\u001b[1A\u001b[1A\u001b[1A\u001b[1A\u001b[1A\u001b[0G\u001b[?25l[+] Building 0.5s (2/3)                                          docker:default\n",
      "\u001b[34m => [internal] load build definition from Dockerfile                       0.0s\n",
      "\u001b[0m\u001b[34m => => transferring dockerfile: 424B                                       0.0s\n",
      "\u001b[0m => [internal] load metadata for docker.io/svizor/zoomcamp-model:3.11.5-s  0.5s\n",
      "\u001b[34m => [auth] svizor/zoomcamp-model:pull token for registry-1.docker.io       0.0s\n",
      "\u001b[0m\u001b[?25h\u001b[1A\u001b[1A\u001b[1A\u001b[1A\u001b[1A\u001b[0G\u001b[?25l[+] Building 0.6s (2/3)                                          docker:default\n",
      "\u001b[34m => [internal] load build definition from Dockerfile                       0.0s\n",
      "\u001b[0m\u001b[34m => => transferring dockerfile: 424B                                       0.0s\n",
      "\u001b[0m => [internal] load metadata for docker.io/svizor/zoomcamp-model:3.11.5-s  0.6s\n",
      "\u001b[34m => [auth] svizor/zoomcamp-model:pull token for registry-1.docker.io       0.0s\n",
      "\u001b[0m\u001b[?25h\u001b[1A\u001b[1A\u001b[1A\u001b[1A\u001b[1A\u001b[0G\u001b[?25l[+] Building 0.8s (2/3)                                          docker:default\n",
      "\u001b[34m => [internal] load build definition from Dockerfile                       0.0s\n",
      "\u001b[0m\u001b[34m => => transferring dockerfile: 424B                                       0.0s\n",
      "\u001b[0m => [internal] load metadata for docker.io/svizor/zoomcamp-model:3.11.5-s  0.8s\n",
      "\u001b[34m => [auth] svizor/zoomcamp-model:pull token for registry-1.docker.io       0.0s\n",
      "\u001b[0m\u001b[?25h\u001b[1A\u001b[1A\u001b[1A\u001b[1A\u001b[1A\u001b[0G\u001b[?25l[+] Building 0.9s (2/3)                                          docker:default\n",
      "\u001b[34m => [internal] load build definition from Dockerfile                       0.0s\n",
      "\u001b[0m\u001b[34m => => transferring dockerfile: 424B                                       0.0s\n",
      "\u001b[0m => [internal] load metadata for docker.io/svizor/zoomcamp-model:3.11.5-s  0.9s\n",
      "\u001b[34m => [auth] svizor/zoomcamp-model:pull token for registry-1.docker.io       0.0s\n",
      "\u001b[0m\u001b[?25h\u001b[1A\u001b[1A\u001b[1A\u001b[1A\u001b[1A\u001b[0G\u001b[?25l[+] Building 1.1s (2/3)                                          docker:default\n",
      "\u001b[34m => [internal] load build definition from Dockerfile                       0.0s\n",
      "\u001b[0m\u001b[34m => => transferring dockerfile: 424B                                       0.0s\n",
      "\u001b[0m => [internal] load metadata for docker.io/svizor/zoomcamp-model:3.11.5-s  1.1s\n",
      "\u001b[34m => [auth] svizor/zoomcamp-model:pull token for registry-1.docker.io       0.0s\n",
      "\u001b[0m\u001b[?25h\u001b[1A\u001b[1A\u001b[1A\u001b[1A\u001b[1A\u001b[0G\u001b[?25l[+] Building 1.2s (2/3)                                          docker:default\n",
      "\u001b[34m => [internal] load build definition from Dockerfile                       0.0s\n",
      "\u001b[0m\u001b[34m => => transferring dockerfile: 424B                                       0.0s\n",
      "\u001b[0m => [internal] load metadata for docker.io/svizor/zoomcamp-model:3.11.5-s  1.2s\n",
      "\u001b[34m => [auth] svizor/zoomcamp-model:pull token for registry-1.docker.io       0.0s\n",
      "\u001b[0m\u001b[?25h\u001b[1A\u001b[1A\u001b[1A\u001b[1A\u001b[1A\u001b[0G\u001b[?25l[+] Building 1.4s (3/3)                                          docker:default\n",
      "\u001b[34m => [internal] load build definition from Dockerfile                       0.0s\n",
      "\u001b[0m\u001b[34m => => transferring dockerfile: 424B                                       0.0s\n",
      "\u001b[0m\u001b[34m => [internal] load metadata for docker.io/svizor/zoomcamp-model:3.11.5-s  1.3s\n",
      "\u001b[0m\u001b[34m => [auth] svizor/zoomcamp-model:pull token for registry-1.docker.io       0.0s\n",
      "\u001b[0m\u001b[?25h\u001b[1A\u001b[1A\u001b[1A\u001b[1A\u001b[1A\u001b[0G\u001b[?25l[+] Building 1.4s (11/11) FINISHED                               docker:default\n",
      "\u001b[34m => [internal] load build definition from Dockerfile                       0.0s\n",
      "\u001b[0m\u001b[34m => => transferring dockerfile: 424B                                       0.0s\n",
      "\u001b[0m\u001b[34m => [internal] load metadata for docker.io/svizor/zoomcamp-model:3.11.5-s  1.3s\n",
      "\u001b[0m\u001b[34m => [auth] svizor/zoomcamp-model:pull token for registry-1.docker.io       0.0s\n",
      "\u001b[0m\u001b[34m => [internal] load .dockerignore                                          0.0s\n",
      "\u001b[0m\u001b[34m => => transferring context: 2B                                            0.0s\n",
      "\u001b[0m\u001b[34m => [1/5] FROM docker.io/svizor/zoomcamp-model:3.11.5-slim@sha256:15d6179  0.0s\n",
      "\u001b[0m\u001b[34m => [internal] load build context                                          0.0s\n",
      "\u001b[0m\u001b[34m => => transferring context: 148B                                          0.0s\n",
      "\u001b[0m\u001b[34m => CACHED [2/5] WORKDIR /app                                              0.0s\n",
      "\u001b[0m\u001b[34m => CACHED [3/5] COPY Pipfile Pipfile.lock ./                              0.0s\n",
      "\u001b[0m\u001b[34m => CACHED [4/5] RUN pip install pipenv &&     pipenv install --system --  0.0s\n",
      "\u001b[0m\u001b[34m => CACHED [5/5] COPY *.py *.bin ./                                        0.0s\n",
      "\u001b[0m\u001b[34m => exporting to image                                                     0.0s\n",
      "\u001b[0m\u001b[34m => => exporting layers                                                    0.0s\n",
      "\u001b[0m\u001b[34m => => writing image sha256:66d7cff808d81bb3bc01c918e2cfba58faa1bc0a7e9a3  0.0s\n",
      "\u001b[0m\u001b[34m => => naming to docker.io/library/q5-predict                              0.0s\n",
      "\u001b[0m\u001b[?25h"
     ]
    }
   ],
   "source": [
    "! docker build -t q5-predict ."
   ]
  },
  {
   "cell_type": "code",
   "execution_count": 21,
   "id": "e66e369a",
   "metadata": {},
   "outputs": [
    {
     "name": "stdout",
     "output_type": "stream",
     "text": [
      "REPOSITORY   TAG       IMAGE ID       CREATED         SIZE\n",
      "q5-predict   latest    66d7cff808d8   8 minutes ago   535MB\n"
     ]
    }
   ],
   "source": [
    "! docker images"
   ]
  },
  {
   "cell_type": "code",
   "execution_count": null,
   "id": "631a9284",
   "metadata": {},
   "outputs": [
    {
     "name": "stdout",
     "output_type": "stream",
     "text": [
      "[2025-08-21 06:37:29 +0000] [1] [INFO] Starting gunicorn 23.0.0\n",
      "[2025-08-21 06:37:29 +0000] [1] [INFO] Listening at: http://0.0.0.0:9696 (1)\n",
      "[2025-08-21 06:37:29 +0000] [1] [INFO] Using worker: sync\n",
      "[2025-08-21 06:37:29 +0000] [7] [INFO] Booting worker with pid: 7\n"
     ]
    },
    {
     "name": "stdout",
     "output_type": "stream",
     "text": [
      "[2025-08-21 06:38:08 +0000] [1] [INFO] Handling signal: int\n",
      "^C\n",
      "[2025-08-21 06:38:08 +0000] [7] [INFO] Worker exiting (pid: 7)\n"
     ]
    }
   ],
   "source": [
    "# run folloing at the terminal\n",
    "# ! docker run -it --rm -p 9696:9696 q5-predict:latest"
   ]
  },
  {
   "cell_type": "markdown",
   "id": "41e7fadd",
   "metadata": {},
   "source": [
    "### Q6"
   ]
  },
  {
   "cell_type": "code",
   "execution_count": 22,
   "id": "53ebbd25",
   "metadata": {},
   "outputs": [
    {
     "name": "stdout",
     "output_type": "stream",
     "text": [
      "{'probability': 0.759}\n"
     ]
    }
   ],
   "source": [
    "import requests\n",
    "\n",
    "url = \"http://localhost:9696/predict\"\n",
    "client = {\"job\": \"management\", \"duration\": 400, \"poutcome\": \"success\"}\n",
    "response = requests.post(url, json=client) ## post the customer information in json format\n",
    "score = response.json() ## get the server response\n",
    "print(score)"
   ]
  }
 ],
 "metadata": {
  "kernelspec": {
   "display_name": "Python 3",
   "language": "python",
   "name": "python3"
  },
  "language_info": {
   "codemirror_mode": {
    "name": "ipython",
    "version": 3
   },
   "file_extension": ".py",
   "mimetype": "text/x-python",
   "name": "python",
   "nbconvert_exporter": "python",
   "pygments_lexer": "ipython3",
   "version": "3.12.1"
  }
 },
 "nbformat": 4,
 "nbformat_minor": 5
}
