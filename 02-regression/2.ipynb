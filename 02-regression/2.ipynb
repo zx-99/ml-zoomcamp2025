{
 "cells": [
  {
   "cell_type": "markdown",
   "id": "908177e4",
   "metadata": {},
   "source": [
    "### Load the library"
   ]
  },
  {
   "cell_type": "code",
   "execution_count": null,
   "id": "5eb77c8d",
   "metadata": {},
   "outputs": [],
   "source": [
    "import pandas as pd\n",
    "import numpy as np\n",
    "import matplotlib.pyplot as plt\n",
    "import seaborn as sns\n",
    "\n",
    "%matplotlib inline"
   ]
  },
  {
   "cell_type": "markdown",
   "id": "66fe3c15",
   "metadata": {},
   "source": [
    "### Create function"
   ]
  },
  {
   "cell_type": "code",
   "execution_count": null,
   "id": "ed120a32",
   "metadata": {},
   "outputs": [],
   "source": [
    "def train_linear_regression(X, y):\n",
    "    ones = np.ones(X.shape[0])\n",
    "    X = np.column_stack([ones, X])\n",
    "\n",
    "    XTX = X.T.dot(X)\n",
    "    XTX_inv = np.linalg.inv(XTX)\n",
    "    w = XTX_inv.dot(X.T).dot(y)\n",
    "    \n",
    "    return w[0], w[1:]\n",
    "\n",
    "def prepare_X(df, fillna_value):\n",
    "    df = df.fillna(fillna_value)\n",
    "    X = df.values\n",
    "    return X\n",
    "\n",
    "def rmse(y, y_pred):\n",
    "    error = y_pred - y\n",
    "    mse = (error ** 2).mean()\n",
    "    return np.sqrt(mse)\n",
    "\n",
    "def train_linear_regression_reg(X, y, r=0.0):\n",
    "    ones = np.ones(X.shape[0])\n",
    "    X = np.column_stack([ones, X])\n",
    "\n",
    "    XTX = X.T.dot(X)\n",
    "    reg = r * np.eye(XTX.shape[0])\n",
    "    XTX = XTX + reg\n",
    "\n",
    "    XTX_inv = np.linalg.inv(XTX)\n",
    "    w = XTX_inv.dot(X.T).dot(y)\n",
    "    \n",
    "    return w[0], w[1:]\n",
    "\n",
    "def creat_validation_framework (x=42):\n",
    "    # Validation framework\n",
    "    n = len(df)\n",
    "\n",
    "    # 确定train,val,test的大小\n",
    "    n_val = int(0.2 * n)\n",
    "    n_test = int(0.2 * n)\n",
    "    n_train = n - (n_val + n_test)\n",
    "\n",
    "    # 设定shuffle随机数\n",
    "    np.random.seed(x)\n",
    "    idx = np.arange(n)\n",
    "    np.random.shuffle(idx)\n",
    "    df_shuffled = df.iloc[idx]\n",
    "\n",
    "    # 分别得到train,val,test数据集\n",
    "    df_train = df_shuffled.iloc[:n_train].copy()\n",
    "    df_val = df_shuffled.iloc[n_train:n_train+n_val].copy()\n",
    "    df_test = df_shuffled.iloc[n_train+n_val:].copy()\n",
    "\n",
    "    # 重置index\n",
    "    df_train = df_train.reset_index(drop=True)\n",
    "    df_val = df_val.reset_index(drop=True)\n",
    "    df_test = df_test.reset_index(drop=True)\n",
    "\n",
    "    # Y值, 且删除原数据集的Y\n",
    "    y_train = df_train.final_price.values\n",
    "    y_val = df_val.final_price.values\n",
    "    y_test = df_test.final_price.values\n",
    "\n",
    "    del df_train['final_price']\n",
    "    del df_val['final_price']\n",
    "    del df_test['final_price']\n",
    "    \n",
    "    return df_train, df_val, df_test, y_train, y_val, y_test"
   ]
  },
  {
   "cell_type": "markdown",
   "id": "db2e511f",
   "metadata": {},
   "source": [
    "### Download/Get the dataset"
   ]
  },
  {
   "cell_type": "code",
   "execution_count": 2,
   "id": "f8a4c763",
   "metadata": {},
   "outputs": [
    {
     "name": "stdout",
     "output_type": "stream",
     "text": [
      "--2025-07-27 08:41:33--  https://raw.githubusercontent.com/alexeygrigorev/datasets/master/laptops.csv\n",
      "Resolving raw.githubusercontent.com (raw.githubusercontent.com)... 185.199.109.133, 185.199.110.133, 185.199.111.133, ...\n",
      "Connecting to raw.githubusercontent.com (raw.githubusercontent.com)|185.199.109.133|:443... connected.\n",
      "HTTP request sent, awaiting response... "
     ]
    },
    {
     "name": "stdout",
     "output_type": "stream",
     "text": [
      "200 OK\n",
      "Length: 298573 (292K) [text/plain]\n",
      "Saving to: ‘laptops.csv’\n",
      "\n",
      "laptops.csv         100%[===================>] 291.58K  --.-KB/s    in 0.004s  \n",
      "\n",
      "2025-07-27 08:41:34 (65.1 MB/s) - ‘laptops.csv’ saved [298573/298573]\n",
      "\n"
     ]
    }
   ],
   "source": [
    "data = 'https://raw.githubusercontent.com/alexeygrigorev/datasets/master/laptops.csv'\n",
    "\n",
    "!wget $data -O laptops.csv"
   ]
  },
  {
   "cell_type": "markdown",
   "id": "e809a66b",
   "metadata": {},
   "source": [
    "### Preparing the dataset"
   ]
  },
  {
   "cell_type": "code",
   "execution_count": 3,
   "id": "a60986f5",
   "metadata": {},
   "outputs": [],
   "source": [
    "df = pd.read_csv('laptops.csv')\n",
    "\n",
    "df.columns = df.columns.str.lower().str.replace(' ', '_')\n",
    "\n",
    "names = ['ram', 'storage', 'screen', 'final_price']\n",
    "\n",
    "df = df[names]"
   ]
  },
  {
   "cell_type": "markdown",
   "id": "ae3b2c31",
   "metadata": {},
   "source": [
    "### EDA"
   ]
  },
  {
   "cell_type": "markdown",
   "id": "9236f348",
   "metadata": {},
   "source": [
    "Look at the final_price variable. Does it have a long tail?"
   ]
  },
  {
   "cell_type": "code",
   "execution_count": 5,
   "id": "7ff667f2",
   "metadata": {},
   "outputs": [
    {
     "data": {
      "text/plain": [
       "<Axes: xlabel='final_price', ylabel='Count'>"
      ]
     },
     "execution_count": 5,
     "metadata": {},
     "output_type": "execute_result"
    },
    {
     "data": {
      "image/png": "[encoded data removed]",
      "text/plain": [
       "<Figure size 640x480 with 1 Axes>"
      ]
     },
     "metadata": {},
     "output_type": "display_data"
    }
   ],
   "source": [
    "sns.histplot(df.final_price)"
   ]
  },
  {
   "cell_type": "code",
   "execution_count": 6,
   "id": "b42d3f0d",
   "metadata": {},
   "outputs": [
    {
     "data": {
      "text/plain": [
       "<Axes: ylabel='Count'>"
      ]
     },
     "execution_count": 6,
     "metadata": {},
     "output_type": "execute_result"
    },
    {
     "data": {
      "image/png": "[encoded data removed]",
      "text/plain": [
       "<Figure size 640x480 with 1 Axes>"
      ]
     },
     "metadata": {},
     "output_type": "display_data"
    }
   ],
   "source": [
    "# log1 plus to get normal distribution\n",
    "sns.histplot(np.log1p(df.final_price.values))"
   ]
  },
  {
   "cell_type": "markdown",
   "id": "4140d491",
   "metadata": {},
   "source": [
    "### Question 1 & Question 2"
   ]
  },
  {
   "cell_type": "code",
   "execution_count": 7,
   "id": "eb07a3af",
   "metadata": {},
   "outputs": [
    {
     "name": "stdout",
     "output_type": "stream",
     "text": [
      "ram              int64\n",
      "storage          int64\n",
      "screen         float64\n",
      "final_price    float64\n",
      "dtype: object\n",
      "\n",
      "\n",
      "Question 1\n",
      "ram            0\n",
      "storage        0\n",
      "screen         4\n",
      "final_price    0\n",
      "dtype: int64\n",
      "\n",
      "\n",
      "Question 2\n",
      "ram meadian is 16.0\n"
     ]
    }
   ],
   "source": [
    "print(df.dtypes)\n",
    "\n",
    "print('\\n')\n",
    "\n",
    "print('Question 1')\n",
    "print(df.isnull().sum())\n",
    "\n",
    "print('\\n')\n",
    "\n",
    "print('Question 2')\n",
    "print('ram meadian is', df.describe().loc['50%','ram'])"
   ]
  },
  {
   "cell_type": "markdown",
   "id": "481894f4",
   "metadata": {},
   "source": [
    "### Prepare and split the dataset\n",
    "**Shuffle the dataset (the filtered one you created above), use seed *42*.**\n",
    "\n",
    "**Split your data in train/val/test sets, with 60%/20%/20% distribution.**"
   ]
  },
  {
   "cell_type": "markdown",
   "id": "b5d833f9",
   "metadata": {},
   "source": [
    "Use the same code as in the lectures"
   ]
  },
  {
   "cell_type": "code",
   "execution_count": null,
   "id": "a6611ccc",
   "metadata": {},
   "outputs": [],
   "source": [
    "# Validation framework\n",
    "n = len(df)\n",
    "\n",
    "# 确定train,val,test的大小\n",
    "n_val = int(0.2 * n)\n",
    "n_test = int(0.2 * n)\n",
    "n_train = n - (n_val + n_test)\n",
    "\n",
    "# 设定shuffle随机数\n",
    "np.random.seed(42)\n",
    "idx = np.arange(n)\n",
    "np.random.shuffle(idx)\n",
    "df_shuffled = df.iloc[idx]\n",
    "\n",
    "# 分别得到train,val,test数据集\n",
    "df_train = df_shuffled.iloc[:n_train].copy()\n",
    "df_val = df_shuffled.iloc[n_train:n_train+n_val].copy()\n",
    "df_test = df_shuffled.iloc[n_train+n_val:].copy()\n",
    "\n",
    "# 重置index\n",
    "df_train = df_train.reset_index(drop=True)\n",
    "df_val = df_val.reset_index(drop=True)\n",
    "df_test = df_test.reset_index(drop=True)\n",
    "\n",
    "# Y值, 且删除原数据集的Y\n",
    "y_train = df_train.final_price.values\n",
    "y_val = df_val.final_price.values\n",
    "y_test = df_test.final_price.values\n",
    "\n",
    "del df_train['final_price']\n",
    "del df_val['final_price']\n",
    "del df_test['final_price']"
   ]
  },
  {
   "cell_type": "markdown",
   "id": "f92d3134",
   "metadata": {},
   "source": [
    "### Question 3\n",
    "\n",
    "- We need to deal with missing values for the column from Q1.\n",
    "- We have two options: fill it with 0 or with the mean of this variable.\n",
    "- Try both options. For each, train a linear regression model without regularization using the code from the lessons.\n",
    "- For computing the mean, use the training only!\n",
    "- Use the validation dataset to evaluate the models and compare the RMSE of each option.\n",
    "- Round the RMSE scores to 2 decimal digits using round(score, 2)\n",
    "- Which option gives better RMSE?"
   ]
  },
  {
   "cell_type": "markdown",
   "id": "c8e305f7",
   "metadata": {},
   "source": [
    "#### Linear regression (without regularization)"
   ]
  },
  {
   "cell_type": "code",
   "execution_count": 12,
   "id": "0620d1b2",
   "metadata": {},
   "outputs": [
    {
     "name": "stdout",
     "output_type": "stream",
     "text": [
      "fill with 0: 597.36\n",
      "fill with mean: 600.27\n"
     ]
    }
   ],
   "source": [
    "# column 'screen' has missing values\n",
    "# Option 1 - fill it with 0\n",
    "X_train = prepare_X(df_train, fillna_value=0)\n",
    "w_0, w = train_linear_regression(X_train, y_train)\n",
    "\n",
    "X_val = prepare_X(df_val, fillna_value=0)\n",
    "y_pred = w_0 + X_val.dot(w)\n",
    "\n",
    "print('fill with 0:',round(rmse(y_val, y_pred), 2))\n",
    "\n",
    "# Option 2 - fill it with mean of the variable\n",
    "screen_mean_value = df_train.screen.mean()\n",
    "\n",
    "X_train = prepare_X(df_train, fillna_value=screen_mean_value)\n",
    "w_0, w = train_linear_regression(X_train, y_train)\n",
    "\n",
    "X_val = prepare_X(df_val, fillna_value=screen_mean_value)\n",
    "y_pred = w_0 + X_val.dot(w)\n",
    "\n",
    "print('fill with mean:', round(rmse(y_val, y_pred), 2))"
   ]
  },
  {
   "cell_type": "code",
   "execution_count": 13,
   "id": "7eef07fa",
   "metadata": {},
   "outputs": [
    {
     "data": {
      "image/png": "[encoded data removed]",
      "text/plain": [
       "<Figure size 600x400 with 1 Axes>"
      ]
     },
     "metadata": {},
     "output_type": "display_data"
    }
   ],
   "source": [
    "plt.figure(figsize=(6, 4))\n",
    "\n",
    "sns.histplot(y_val, label='target', color='blue', alpha=0.5, bins=40)\n",
    "sns.histplot(y_pred, label='prediction', color='red', alpha=0.5, bins=40)\n",
    "\n",
    "plt.legend()\n",
    "\n",
    "plt.ylabel('Frequency')\n",
    "plt.xlabel('Log(Price + 1)')\n",
    "plt.title('Predictions vs actual distribution')\n",
    "\n",
    "plt.show()"
   ]
  },
  {
   "cell_type": "markdown",
   "id": "8922d997",
   "metadata": {},
   "source": [
    "### Question 4\n",
    "- Now let's train a regularized linear regression.\n",
    "- For this question, fill the NAs with 0.\n",
    "- Try different values of r from this list: [0, 0.01, 0.1, 1, 5, 10, 100].\n",
    "- Use RMSE to evaluate the model on the validation dataset.\n",
    "- Round the RMSE scores to 2 decimal digits.\n",
    "- Which r gives the best RMSE?\n",
    "- If there are multiple options, select the smallest r."
   ]
  },
  {
   "cell_type": "markdown",
   "id": "1295c195",
   "metadata": {},
   "source": [
    "#### Linear regression (with regularization)"
   ]
  },
  {
   "cell_type": "code",
   "execution_count": 18,
   "id": "29ec840a",
   "metadata": {},
   "outputs": [
    {
     "name": "stdout",
     "output_type": "stream",
     "text": [
      "     0 597.36\n",
      "  0.01 597.36\n",
      "   0.1 597.35\n",
      "     1 597.21\n",
      "     5 597.01\n",
      "    10 597.06\n",
      "   100 597.90\n"
     ]
    }
   ],
   "source": [
    "X_train = prepare_X(df_train, fillna_value=0)\n",
    "X_val = prepare_X(df_val, fillna_value=0)\n",
    "\n",
    "for r in [0, 0.01, 0.1, 1, 5, 10, 100]:\n",
    "    w_0, w = train_linear_regression_reg(X_train, y_train, r=r)\n",
    "    y_pred = w_0 + X_val.dot(w)\n",
    "    print('%6s %0.2f' %(r, rmse(y_val, y_pred)))"
   ]
  },
  {
   "cell_type": "markdown",
   "id": "2a356f79",
   "metadata": {},
   "source": [
    "### Question 5\n",
    "- We used seed 42 for splitting the data. Let's find out how selecting the seed influences our score.\n",
    "- Try different seed values: [0, 1, 2, 3, 4, 5, 6, 7, 8, 9].\n",
    "- For each seed, do the train/validation/test split with 60%/20%/20% distribution.\n",
    "- Fill the missing values with 0 and train a model without regularization.\n",
    "- For each seed, evaluate the model on the validation dataset and collect the RMSE scores.\n",
    "- What's the standard deviation of all the scores? To compute the standard deviation, use np.std.\n",
    "- Round the result to 3 decimal digits (round(std, 3))"
   ]
  },
  {
   "cell_type": "code",
   "execution_count": 21,
   "id": "1e39a528",
   "metadata": {},
   "outputs": [
    {
     "name": "stdout",
     "output_type": "stream",
     "text": [
      "seed:    0, rmse score: 565.452\n",
      "seed:    1, rmse score: 636.799\n",
      "seed:    2, rmse score: 588.956\n",
      "seed:    3, rmse score: 597.815\n",
      "seed:    4, rmse score: 571.963\n",
      "seed:    5, rmse score: 573.238\n",
      "seed:    6, rmse score: 647.344\n",
      "seed:    7, rmse score: 550.440\n",
      "seed:    8, rmse score: 587.334\n",
      "seed:    9, rmse score: 576.102\n",
      "std: 29.176\n"
     ]
    }
   ],
   "source": [
    "all_score = []\n",
    "for seed in [0, 1, 2, 3, 4, 5, 6, 7, 8, 9]:\n",
    "    df_train, df_val, df_test, y_train, y_val, y_test = creat_validation_framework(x=seed)\n",
    "    X_train = prepare_X(df_train, fillna_value=0)\n",
    "    w_0, w = train_linear_regression(X_train, y_train)\n",
    "    X_val = prepare_X(df_val, fillna_value=0)\n",
    "    y_pred = w_0 + X_val.dot(w)\n",
    "    print('seed: %4s, rmse score: %0.3f' %(seed, rmse(y_val, y_pred)))\n",
    "    all_score.append(rmse(y_val, y_pred))\n",
    "\n",
    "print('std: %.3f' %np.std(all_score))"
   ]
  },
  {
   "cell_type": "markdown",
   "id": "80780d3e",
   "metadata": {},
   "source": [
    "### Question 6\n",
    "- Split the dataset like previously, use seed 9.\n",
    "- Combine train and validation datasets.\n",
    "- Fill the missing values with 0 and train a model with r=0.001.\n",
    "- What's the RMSE on the test dataset?"
   ]
  },
  {
   "cell_type": "code",
   "execution_count": 22,
   "id": "032f7a6f",
   "metadata": {},
   "outputs": [],
   "source": [
    "df_train, df_val, df_test, y_train, y_val, y_test = creat_validation_framework(x=9)"
   ]
  },
  {
   "cell_type": "code",
   "execution_count": 27,
   "id": "6d589b5d",
   "metadata": {},
   "outputs": [
    {
     "name": "stdout",
     "output_type": "stream",
     "text": [
      "rmse: 608.610\n"
     ]
    }
   ],
   "source": [
    "df_full_train = pd.concat([df_train, df_val])\n",
    "df_full_train = df_full_train.reset_index(drop=True)\n",
    "\n",
    "X_full_train = prepare_X(df_full_train, fillna_value=0)\n",
    "y_full_train = np.concatenate([y_train, y_val])\n",
    "w_0, w = train_linear_regression_reg(X_full_train, y_full_train, r=0.001)\n",
    "\n",
    "X_test = prepare_X(df_test, fillna_value=0)\n",
    "y_pred = w_0 + X_test.dot(w)\n",
    "\n",
    "result = rmse(y_test, y_pred)\n",
    "print('rmse: %0.3f' %result)"
   ]
  }
 ],
 "metadata": {
  "kernelspec": {
   "display_name": "Python 3",
   "language": "python",
   "name": "python3"
  },
  "language_info": {
   "codemirror_mode": {
    "name": "ipython",
    "version": 3
   },
   "file_extension": ".py",
   "mimetype": "text/x-python",
   "name": "python",
   "nbconvert_exporter": "python",
   "pygments_lexer": "ipython3",
   "version": "3.12.1"
  }
 },
 "nbformat": 4,
 "nbformat_minor": 5
}
