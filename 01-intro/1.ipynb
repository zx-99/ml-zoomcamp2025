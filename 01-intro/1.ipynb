{
 "cells": [
  {
   "cell_type": "code",
   "execution_count": 1,
   "id": "9984d255",
   "metadata": {},
   "outputs": [],
   "source": [
    "import pandas as pd"
   ]
  },
  {
   "cell_type": "markdown",
   "id": "a35e17b4",
   "metadata": {},
   "source": [
    "### Q1. Pandas version\n",
    "What's the version of Pandas that you installed?\n",
    "\n",
    "You can get the version information using the __version__ field:"
   ]
  },
  {
   "cell_type": "code",
   "execution_count": 2,
   "id": "8da70a3a",
   "metadata": {},
   "outputs": [
    {
     "data": {
      "text/plain": [
       "'2.3.1'"
      ]
     },
     "execution_count": 2,
     "metadata": {},
     "output_type": "execute_result"
    }
   ],
   "source": [
    "pd.__version__"
   ]
  },
  {
   "cell_type": "markdown",
   "id": "af5f5698",
   "metadata": {},
   "source": [
    "### Getting the data\n",
    "\n",
    "\n",
    "`wget https://raw.githubusercontent.com/alexeygrigorev/datasets/master/laptops.csv`"
   ]
  },
  {
   "cell_type": "markdown",
   "id": "1939c528",
   "metadata": {},
   "source": [
    "### Q2. Records count\n",
    "How many records are in the dataset?"
   ]
  },
  {
   "cell_type": "code",
   "execution_count": 5,
   "id": "03335277",
   "metadata": {},
   "outputs": [],
   "source": [
    "df = pd.read_csv('laptops.csv')"
   ]
  },
  {
   "cell_type": "code",
   "execution_count": 6,
   "id": "b4200878",
   "metadata": {},
   "outputs": [
    {
     "data": {
      "text/plain": [
       "2160"
      ]
     },
     "execution_count": 6,
     "metadata": {},
     "output_type": "execute_result"
    }
   ],
   "source": [
    "df.shape[0]"
   ]
  },
  {
   "cell_type": "markdown",
   "id": "25a43387",
   "metadata": {},
   "source": [
    "### Q3. Laptop brands\n",
    "How many laptop brands are presented in the dataset?"
   ]
  },
  {
   "cell_type": "code",
   "execution_count": 8,
   "id": "bbbca465",
   "metadata": {},
   "outputs": [
    {
     "name": "stdout",
     "output_type": "stream",
     "text": [
      "Laptop           object\n",
      "Status           object\n",
      "Brand            object\n",
      "Model            object\n",
      "CPU              object\n",
      "RAM               int64\n",
      "Storage           int64\n",
      "Storage type     object\n",
      "GPU              object\n",
      "Screen          float64\n",
      "Touch            object\n",
      "Final Price     float64\n",
      "dtype: object\n"
     ]
    }
   ],
   "source": [
    "print(df.dtypes)"
   ]
  },
  {
   "cell_type": "code",
   "execution_count": 7,
   "id": "5ec5e7d2",
   "metadata": {},
   "outputs": [
    {
     "name": "stdout",
     "output_type": "stream",
     "text": [
      "27\n"
     ]
    }
   ],
   "source": [
    "print(df.Brand.nunique())"
   ]
  },
  {
   "cell_type": "markdown",
   "id": "83d9d4bf",
   "metadata": {},
   "source": [
    "### Q4. Missing values\n",
    "How many columns in the dataset have missing values?"
   ]
  },
  {
   "cell_type": "code",
   "execution_count": 22,
   "id": "8f9ef25e",
   "metadata": {},
   "outputs": [
    {
     "name": "stdout",
     "output_type": "stream",
     "text": [
      "['Laptop' 'Status' 'Brand' 'Model' 'CPU' 'RAM' 'Storage' 'Storage type'\n",
      " 'GPU' 'Screen' 'Touch' 'Final Price']\n"
     ]
    }
   ],
   "source": [
    "print(df[df.isna()].columns.values)"
   ]
  },
  {
   "cell_type": "markdown",
   "id": "2ffb395e",
   "metadata": {},
   "source": [
    "### Q5. Maximum final price\n",
    "What's the maximum final price of Dell notebooks in the dataset?"
   ]
  },
  {
   "cell_type": "code",
   "execution_count": 24,
   "id": "78fcd049",
   "metadata": {},
   "outputs": [
    {
     "name": "stdout",
     "output_type": "stream",
     "text": [
      "3936.0\n"
     ]
    }
   ],
   "source": [
    "print(df [df.Brand == 'Dell'] ['Final Price'].max())"
   ]
  },
  {
   "cell_type": "markdown",
   "id": "57d88ae0",
   "metadata": {},
   "source": [
    "### Q6. Median value of Screen\n",
    "1. Find the median value of Screen column in the dataset.\n",
    "\n",
    "2. Next, calculate the most frequent value of the same Screen column.\n",
    "\n",
    "3. Use fillna method to fill the missing values in Screen column with the most frequent value from the previous step.\n",
    "\n",
    "4. Now, calculate the median value of Screen once again."
   ]
  },
  {
   "cell_type": "code",
   "execution_count": 25,
   "id": "a15ae50e",
   "metadata": {},
   "outputs": [
    {
     "name": "stdout",
     "output_type": "stream",
     "text": [
      "Median value of Screen: 15.6\n",
      "Most frequent value of Screen 15.6\n",
      "Median value of Screen: 15.6\n"
     ]
    }
   ],
   "source": [
    "print('Median value of Screen:',df.Screen.median())\n",
    "\n",
    "print('Most frequent value of Screen', df.Screen.mode()[0])\n",
    "\n",
    "df = df.fillna(value= df.Screen.mode()[0] )\n",
    "\n",
    "print('Median value of Screen:',df.Screen.median())"
   ]
  },
  {
   "cell_type": "markdown",
   "id": "213e6cfa",
   "metadata": {},
   "source": [
    "### Q7. Sum of weights\n",
    "1. Select all the \"Innjoo\" laptops from the dataset.\n",
    "\n",
    "2. Select only columns RAM, Storage, Screen.\n",
    "\n",
    "3. Get the underlying NumPy array. Let's call it X.\n",
    "\n",
    "4. Compute matrix-matrix multiplication between the transpose of X and X. To get the transpose, use X.T. Let's call the result XTX.\n",
    "\n",
    "5. Compute the inverse of XTX.\n",
    "\n",
    "6. Create an array y with values [1100, 1300, 800, 900, 1000, 1100].\n",
    "\n",
    "7. Multiply the inverse of XTX with the transpose of X, and then multiply the result by y. Call the result w.\n",
    "\n",
    "8. What's the sum of all the elements of the result?"
   ]
  },
  {
   "cell_type": "code",
   "execution_count": 40,
   "id": "26d801d3",
   "metadata": {},
   "outputs": [],
   "source": [
    "df_q7 = df[ df['Brand'] == 'Innjoo']"
   ]
  },
  {
   "cell_type": "code",
   "execution_count": null,
   "id": "5969cbd7",
   "metadata": {},
   "outputs": [
    {
     "name": "stdout",
     "output_type": "stream",
     "text": [
      "91.2998806299555\n"
     ]
    }
   ],
   "source": [
    "import numpy as np\n",
    "\n",
    "name = ['RAM', 'Storage', 'Screen']\n",
    "\n",
    "df_q7 = df_q7[name]\n",
    "\n",
    "X = df_q7[name].to_numpy()\n",
    "\n",
    "XTX = X.T @ X\n",
    "\n",
    "invXTX = np.linalg.inv(XTX)\n",
    "\n",
    "y = np.array([1100, 1300, 800, 900, 1000, 1100])\n",
    "\n",
    "# w = (XTX)^-1 * XT * y\n",
    "\n",
    "w = invXTX @ X.T @ y\n",
    "\n",
    "print(w.sum())"
   ]
  }
 ],
 "metadata": {
  "kernelspec": {
   "display_name": "Python 3",
   "language": "python",
   "name": "python3"
  },
  "language_info": {
   "codemirror_mode": {
    "name": "ipython",
    "version": 3
   },
   "file_extension": ".py",
   "mimetype": "text/x-python",
   "name": "python",
   "nbconvert_exporter": "python",
   "pygments_lexer": "ipython3",
   "version": "3.12.1"
  }
 },
 "nbformat": 4,
 "nbformat_minor": 5
}
